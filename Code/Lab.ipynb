{
 "cells": [
  {
   "cell_type": "code",
   "execution_count": 1,
   "metadata": {},
   "outputs": [],
   "source": [
    "from __lib__ import  *\n",
    "def find_contours(heatmap, threshold=None, dilation=True, erosion=False):\n",
    "    \"\"\"\n",
    "    Find and sort text line contour based on score link image\n",
    "    @Parameters:\n",
    "        - heatmap: score link heatmap image\n",
    "        - threshold: threshold method, choices=[otsu, adaptive, simple]\n",
    "        - dilate: whether or not to use dilation\n",
    "    @Returns:\n",
    "        - contours: list of contours\n",
    "        - contour_index: contour sort index\n",
    "    \"\"\"\n",
    "    # Convert to grayscale\n",
    "    gray = heatmap  # cv2.cvtColor(heatmap, cv2.COLOR_RGB2GRAY)\n",
    "    # gray = cv2.GaussianBlur(gray, (5,5), 0)\n",
    "    height, width = gray.shape[:2]\n",
    "    # Threshold\n",
    "    thresh = gray\n",
    "    if threshold == \"otsu\":\n",
    "        thresh = cv2.threshold(gray, 0, 255, cv2.THRESH_BINARY | cv2.THRESH_OTSU)[1]\n",
    "    elif threshold == \"adaptive\":\n",
    "        thresh = cv2.adaptiveThreshold(\n",
    "            gray, 255, cv2.ADAPTIVE_THRESH_GAUSSIAN_C, cv2.THRESH_BINARY_INV, 11, 2\n",
    "        )\n",
    "    elif threshold == \"simple\":\n",
    "        # 180 -> 127\n",
    "        thresh = cv2.threshold(gray, 127, 255, cv2.THRESH_BINARY)[1]\n",
    "\n",
    "    # kernel = np.ones((3, 1), np.uint8)\n",
    "    # thresh = cv2.erode(thresh, kernel, iterations=1)\n",
    "\n",
    "    # Dilate\n",
    "    dilate = thresh\n",
    "    if dilation:\n",
    "        # width // 50\n",
    "        kernel = cv2.getStructuringElement(cv2.MORPH_RECT, (width // 50, 1))\n",
    "        dilate = cv2.dilate(thresh, kernel, iterations=3)\n",
    "\n",
    "    # Erode\n",
    "    erode = dilate\n",
    "    if erosion:\n",
    "        kernel = cv2.getStructuringElement(cv2.MORPH_RECT, (2, 1))\n",
    "        erode = cv2.erode(dilate, kernel, iterations=1)\n",
    "\n",
    "    # Find and sort contour\n",
    "    contours = cv2.findContours(erode, cv2.RETR_EXTERNAL, cv2.CHAIN_APPROX_SIMPLE)\n",
    "    contours = contours[0] if len(contours) == 2 else contours[1]\n",
    "    contours = [c.squeeze() for c in contours if len(c) > 2]\n",
    "\n",
    "    contour_left = []\n",
    "    for c in contours:\n",
    "        index = np.argsort(c[:, 0])\n",
    "        contour_left.append(c[index[0], 1])\n",
    "    contour_index = np.argsort(contour_left)\n",
    "    return contours, contour_index"
   ]
  },
  {
   "cell_type": "code",
   "execution_count": 4,
   "metadata": {},
   "outputs": [
    {
     "data": {
      "text/plain": [
       "<matplotlib.image.AxesImage at 0x7fe2208591c0>"
      ]
     },
     "execution_count": 4,
     "metadata": {},
     "output_type": "execute_result"
    },
    {
     "data": {
      "image/png": "[encoded data removed]",
      "text/plain": [
       "<Figure size 400x1000 with 1 Axes>"
      ]
     },
     "metadata": {},
     "output_type": "display_data"
    }
   ],
   "source": [
    "img = cv2.imread('/home/dtan/Documents/GCN/GCN_Vietnam/Code/U2Net/output/mcocr_private_145120kqech.jpg')\n",
    "plt.figure(figsize=(4,10))\n",
    "plt.imshow(img)"
   ]
  }
 ],
 "metadata": {
  "kernelspec": {
   "display_name": "py37",
   "language": "python",
   "name": "python3"
  },
  "language_info": {
   "codemirror_mode": {
    "name": "ipython",
    "version": 3
   },
   "file_extension": ".py",
   "mimetype": "text/x-python",
   "name": "python",
   "nbconvert_exporter": "python",
   "pygments_lexer": "ipython3",
   "version": "3.8.16"
  },
  "orig_nbformat": 4
 },
 "nbformat": 4,
 "nbformat_minor": 2
}
